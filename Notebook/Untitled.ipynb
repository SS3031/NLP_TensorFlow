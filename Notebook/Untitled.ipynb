{
 "cells": [
  {
   "cell_type": "code",
   "execution_count": 1,
   "id": "16fa224e-66ed-42c1-bd6f-a3dc35ce2104",
   "metadata": {},
   "outputs": [
    {
     "name": "stdout",
     "output_type": "stream",
     "text": [
      "2.16.1\n"
     ]
    }
   ],
   "source": [
    "##import the required libraries and APIs\n",
    "import numpy as np\n",
    "import tensorflow as tf\n",
    "\n",
    "\n",
    "print(tf.__version__)"
   ]
  },
  {
   "cell_type": "code",
   "execution_count": 2,
   "id": "d81510f0-090e-4fd9-9140-8cd11dffbffc",
   "metadata": {},
   "outputs": [],
   "source": [
    "#!pip install tensorflow-datasets"
   ]
  },
  {
   "cell_type": "code",
   "execution_count": 3,
   "id": "25914873-55b1-4063-a155-48b9b37da835",
   "metadata": {},
   "outputs": [],
   "source": [
    "#pip show tensorflow-datasets"
   ]
  },
  {
   "cell_type": "code",
   "execution_count": 4,
   "id": "3db3f9b1-baa5-4f0c-bbd7-3ee0a291bac5",
   "metadata": {},
   "outputs": [],
   "source": [
    "#import tensorflow_datasets as tfds\n",
    "from tensorflow.keras.preprocessing.text import Tokenizer\n",
    "from tensorflow.keras.preprocessing.sequence import pad_sequences"
   ]
  },
  {
   "cell_type": "code",
   "execution_count": 5,
   "id": "d8f4480e-6e8c-49cf-87a4-2278ad8f7618",
   "metadata": {},
   "outputs": [],
   "source": [
    "#!pip install scikit-learn\n"
   ]
  },
  {
   "cell_type": "code",
   "execution_count": 6,
   "id": "6ff3c6ab-8351-41be-ac59-ffeaf39e6a7a",
   "metadata": {},
   "outputs": [],
   "source": [
    "from sklearn.model_selection import train_test_split\n",
    "\n",
    "import pandas as pd"
   ]
  },
  {
   "cell_type": "code",
   "execution_count": 7,
   "id": "cffee03a-d2df-41c7-bc5c-9b0205a59f1c",
   "metadata": {},
   "outputs": [],
   "source": [
    "df = pd.read_csv('C:/Users/sophi/Ironhack/Ironhack/LinkedIn/Harshit_Tyagi/data.csv')"
   ]
  },
  {
   "cell_type": "code",
   "execution_count": 8,
   "id": "91d6a38e-8ff8-49c5-ab16-266a7faca60e",
   "metadata": {},
   "outputs": [
    {
     "data": {
      "text/html": [
       "<div>\n",
       "<style scoped>\n",
       "    .dataframe tbody tr th:only-of-type {\n",
       "        vertical-align: middle;\n",
       "    }\n",
       "\n",
       "    .dataframe tbody tr th {\n",
       "        vertical-align: top;\n",
       "    }\n",
       "\n",
       "    .dataframe thead th {\n",
       "        text-align: right;\n",
       "    }\n",
       "</style>\n",
       "<table border=\"1\" class=\"dataframe\">\n",
       "  <thead>\n",
       "    <tr style=\"text-align: right;\">\n",
       "      <th></th>\n",
       "      <th>Sentence</th>\n",
       "      <th>Sentiment</th>\n",
       "    </tr>\n",
       "  </thead>\n",
       "  <tbody>\n",
       "    <tr>\n",
       "      <th>0</th>\n",
       "      <td>The GeoSolutions technology will leverage Bene...</td>\n",
       "      <td>positive</td>\n",
       "    </tr>\n",
       "    <tr>\n",
       "      <th>1</th>\n",
       "      <td>$ESI on lows, down $1.50 to $2.50 BK a real po...</td>\n",
       "      <td>negative</td>\n",
       "    </tr>\n",
       "    <tr>\n",
       "      <th>2</th>\n",
       "      <td>For the last quarter of 2010 , Componenta 's n...</td>\n",
       "      <td>positive</td>\n",
       "    </tr>\n",
       "    <tr>\n",
       "      <th>3</th>\n",
       "      <td>According to the Finnish-Russian Chamber of Co...</td>\n",
       "      <td>neutral</td>\n",
       "    </tr>\n",
       "    <tr>\n",
       "      <th>4</th>\n",
       "      <td>The Swedish buyout firm has sold its remaining...</td>\n",
       "      <td>neutral</td>\n",
       "    </tr>\n",
       "  </tbody>\n",
       "</table>\n",
       "</div>"
      ],
      "text/plain": [
       "                                            Sentence Sentiment\n",
       "0  The GeoSolutions technology will leverage Bene...  positive\n",
       "1  $ESI on lows, down $1.50 to $2.50 BK a real po...  negative\n",
       "2  For the last quarter of 2010 , Componenta 's n...  positive\n",
       "3  According to the Finnish-Russian Chamber of Co...   neutral\n",
       "4  The Swedish buyout firm has sold its remaining...   neutral"
      ]
     },
     "execution_count": 8,
     "metadata": {},
     "output_type": "execute_result"
    }
   ],
   "source": [
    "df.head()"
   ]
  },
  {
   "cell_type": "code",
   "execution_count": 9,
   "id": "bf924dc4-a7a4-46b1-8c50-3c40f392d4ce",
   "metadata": {},
   "outputs": [
    {
     "data": {
      "text/plain": [
       "Sentiment\n",
       "neutral     3130\n",
       "positive    1852\n",
       "negative     860\n",
       "Name: count, dtype: int64"
      ]
     },
     "execution_count": 9,
     "metadata": {},
     "output_type": "execute_result"
    }
   ],
   "source": [
    "df['Sentiment'].value_counts()"
   ]
  },
  {
   "cell_type": "code",
   "execution_count": 10,
   "id": "22901cfe-398f-4c7f-9033-f696357e9ac9",
   "metadata": {},
   "outputs": [],
   "source": [
    "#split data into test and train set"
   ]
  },
  {
   "cell_type": "code",
   "execution_count": 11,
   "id": "da954e10-eea1-4d17-9c79-8a34b299e6c9",
   "metadata": {},
   "outputs": [],
   "source": [
    "# Split the data into training and testing sets\n",
    "train_df, test_df = train_test_split(df, test_size=0.2, random_state=42)"
   ]
  },
  {
   "cell_type": "code",
   "execution_count": null,
   "id": "9a06cd4c-b9dd-4d21-b2af-ecf6f5c6f1b4",
   "metadata": {},
   "outputs": [],
   "source": []
  },
  {
   "cell_type": "code",
   "execution_count": 12,
   "id": "9b870313-1f68-4270-ad8b-8ae7256cf31b",
   "metadata": {},
   "outputs": [],
   "source": [
    "# Create empty lists to store sentences and labels\n",
    "train_sentences = []\n",
    "test_sentences = []\n",
    "\n",
    "train_labels = []\n",
    "test_labels = []"
   ]
  },
  {
   "cell_type": "code",
   "execution_count": null,
   "id": "437b62b6-dd8f-46e9-aa44-0c5c75d2a49b",
   "metadata": {},
   "outputs": [],
   "source": [
    "## Iterate over the train data to extract sentences and labels\n",
    "#for index, row in train_df.iterrows():\n",
    "#    train_sentences.append(row['Sentence'])\n",
    "#    train_labels.append(row['Sentiment'])\n",
    "\n",
    "## Iterate over the test data to extract sentences and labels\n",
    "#for index, row in test_df.iterrows():\n",
    "#    test_sentences.append(row['Sentence'])\n",
    "#    test_labels.append(row['Sentiment'])\n",
    "\n",
    "# Print to verify the results\n",
    "#print(\"Training sentences:\", train_sentences)\n",
    "#print(\"Test sentences:\", test_sentences)\n",
    "#print(\"Training labels:\", train_labels)\n",
    "#print(\"Test labels:\", test_labels)"
   ]
  },
  {
   "cell_type": "code",
   "execution_count": 13,
   "id": "964c4b30-fab0-4a75-ba89-034e8cab9ac0",
   "metadata": {},
   "outputs": [],
   "source": [
    "train_data = tf.data.Dataset.from_tensor_slices((train_df['Sentence'].values, train_df['Sentiment'].values))\n",
    "test_data = tf.data.Dataset.from_tensor_slices((test_df['Sentence'].values, test_df['Sentiment'].values))\n",
    "\n"
   ]
  },
  {
   "cell_type": "code",
   "execution_count": 14,
   "id": "0c1117fc-94fe-4abe-83b8-9f749512805f",
   "metadata": {},
   "outputs": [],
   "source": [
    "# Iterate over the train data to extract sentences and labels\n",
    "for sent, label in train_data:\n",
    "    train_sentences.append(sent.numpy().decode('utf-8'))\n",
    "    train_labels.append(label.numpy())\n",
    "\n",
    "# Iterate over the test data to extract sentences and labels\n",
    "for sent, label in test_data:\n",
    "    test_sentences.append(sent.numpy().decode('utf-8'))\n",
    "    test_labels.append(label.numpy())"
   ]
  },
  {
   "cell_type": "markdown",
   "id": "a4bdcd08-9b20-4765-9495-96d8296474b6",
   "metadata": {},
   "source": [
    "## Converting train and test_labels into integers before converting it into a np array "
   ]
  },
  {
   "cell_type": "code",
   "execution_count": 15,
   "id": "9d55e3fa-5577-43d2-b34c-a9a3761398ab",
   "metadata": {},
   "outputs": [
    {
     "data": {
      "text/plain": [
       "array([b'negative', b'neutral', b'positive'], dtype='|S8')"
      ]
     },
     "execution_count": 15,
     "metadata": {},
     "output_type": "execute_result"
    }
   ],
   "source": [
    "# Get unique values in the labels array\n",
    "unique_labels = np.unique(train_labels)\n",
    "unique_labels"
   ]
  },
  {
   "cell_type": "code",
   "execution_count": 16,
   "id": "5ae20f34-27af-4fd4-b94f-11a876e52699",
   "metadata": {},
   "outputs": [],
   "source": [
    "# Create a dictionary to map each unique value to an integer\n",
    "label_to_int = {label: i for i, label in enumerate(unique_labels)}\n",
    "\n",
    "# Map each label to its corresponding integer value\n",
    "train_labels = np.array([label_to_int[label] for label in train_labels])\n",
    "test_labels = np.array([label_to_int[label] for label in test_labels])\n",
    "\n",
    "# Now train_labels_int and test_labels_int contain integer representations of your labels"
   ]
  },
  {
   "cell_type": "code",
   "execution_count": 17,
   "id": "357c09a5-5d64-4c1c-a2ad-ab1d910fd00b",
   "metadata": {},
   "outputs": [],
   "source": [
    "##convert lists into numpy array\n",
    "train_labels = np.array(train_labels)\n",
    "test_labels = np.array(test_labels)"
   ]
  },
  {
   "cell_type": "code",
   "execution_count": 18,
   "id": "257d0686-21eb-4c89-9940-7e692d28566e",
   "metadata": {},
   "outputs": [
    {
     "name": "stdout",
     "output_type": "stream",
     "text": [
      "<class 'numpy.ndarray'>\n"
     ]
    }
   ],
   "source": [
    "print(type(train_labels))"
   ]
  },
  {
   "cell_type": "code",
   "execution_count": 19,
   "id": "af39a81a-430b-4c19-89b4-0552b1939363",
   "metadata": {},
   "outputs": [
    {
     "name": "stdout",
     "output_type": "stream",
     "text": [
      "Labels are integers.\n"
     ]
    }
   ],
   "source": [
    "import numpy as np\n",
    "\n",
    "if np.issubdtype(train_labels.dtype, np.integer):\n",
    "    print(\"Labels are integers.\")\n",
    "else:\n",
    "    print(\"Labels are not integers.\")"
   ]
  },
  {
   "cell_type": "code",
   "execution_count": null,
   "id": "2e3d2b1d-44ec-43c6-84e9-2bf40d9d7e87",
   "metadata": {
    "scrolled": true
   },
   "outputs": [],
   "source": [
    "#import numpy as np\n",
    "#from collections import Counter\n",
    "#from tensorflow.keras.preprocessing.text import Tokenizer\n",
    "\n",
    "# Combine sentences from train and test datasets into a single list\n",
    "#all_sentences = train_sentences + test_sentences\n",
    "\n",
    "# Tokenize the combined list of sentences\n",
    "#tokenizer = Tokenizer()\n",
    "#tokenizer.fit_on_texts(all_sentences)\n",
    "\n",
    "# Get the vocabulary size\n",
    "#vocab_size = len(tokenizer.word_index)\n",
    "\n",
    "#print(\"Vocabulary Size:\", vocab_size)\n"
   ]
  },
  {
   "cell_type": "markdown",
   "id": "72e35ee3-2e50-4cda-8fef-bbbfb5f4de05",
   "metadata": {},
   "source": [
    "## Data preparation - setting up the tokenizer"
   ]
  },
  {
   "cell_type": "code",
   "execution_count": 20,
   "id": "cd973a68-e902-4fa5-85f2-ac074d050dc4",
   "metadata": {},
   "outputs": [],
   "source": [
    "##define the parameters for the tokenizing and padding\n",
    "vocab_size = 11543\n",
    "embedding_dim = 50\n",
    "max_length = 100\n",
    "trunc_type='post'\n",
    "padding_type= 'post'\n",
    "oov_tok = \"<OOV>\""
   ]
  },
  {
   "cell_type": "code",
   "execution_count": 21,
   "id": "978d40e9-9f5e-426c-bfb9-be5fab0eb080",
   "metadata": {},
   "outputs": [],
   "source": [
    "tokenizer = Tokenizer(num_words = vocab_size, oov_token=oov_tok)\n",
    "tokenizer.fit_on_texts(train_sentences)\n",
    "word_index = tokenizer.word_index\n",
    "\n",
    "##training sequences and labels\n",
    "train_seqs = tokenizer.texts_to_sequences(train_sentences)\n",
    "train_padded = pad_sequences(train_seqs, maxlen=max_length, truncating=trunc_type,  padding=padding_type)\n",
    "\n",
    "##testing sequences and labels\n",
    "test_seqs = tokenizer.texts_to_sequences(test_sentences)\n",
    "test_padded = pad_sequences(test_seqs,maxlen=max_length, truncating=trunc_type,  padding=padding_type)"
   ]
  },
  {
   "cell_type": "code",
   "execution_count": null,
   "id": "ec71972b-e58a-4d07-997a-6425f8e94c82",
   "metadata": {},
   "outputs": [],
   "source": []
  },
  {
   "cell_type": "markdown",
   "id": "25dfe8e2-c2e8-4cd5-8b4c-b0fab4d9f6ff",
   "metadata": {},
   "source": [
    "### Looking at one sentence to actually see how the padded sentence looks "
   ]
  },
  {
   "cell_type": "code",
   "execution_count": 22,
   "id": "4a5ca34a-5811-44f0-871e-8273b9ba92a3",
   "metadata": {},
   "outputs": [
    {
     "name": "stdout",
     "output_type": "stream",
     "text": [
      "no compensation for its news , opinions or distributions .\n",
      "[ 230 1953    9   20  181 3411  117 2686    0    0    0    0    0    0\n",
      "    0    0    0    0    0    0    0    0    0    0    0    0    0    0\n",
      "    0    0    0    0    0    0    0    0    0    0    0    0    0    0\n",
      "    0    0    0    0    0    0    0    0    0    0    0    0    0    0\n",
      "    0    0    0    0    0    0    0    0    0    0    0    0    0    0\n",
      "    0    0    0    0    0    0    0    0    0    0    0    0    0    0\n",
      "    0    0    0    0    0    0    0    0    0    0    0    0    0    0\n",
      "    0    0]\n",
      "no compensation for its news opinions or distributions ? ? ? ? ? ? ? ? ? ? ? ? ? ? ? ? ? ? ? ? ? ? ? ? ? ? ? ? ? ? ? ? ? ? ? ? ? ? ? ? ? ? ? ? ? ? ? ? ? ? ? ? ? ? ? ? ? ? ? ? ? ? ? ? ? ? ? ? ? ? ? ? ? ? ? ? ? ? ? ? ? ? ? ? ? ? ? ? ? ? ? ?\n"
     ]
    }
   ],
   "source": [
    "reverse_word_index = dict([(value, key) for (key, value) in word_index.items()])\n",
    "\n",
    "def decode_review(text):\n",
    "    return ' '.join([reverse_word_index.get(i, '?') for i in text])\n",
    "\n",
    "print(train_sentences[1])\n",
    "print(train_padded[1])\n",
    "print(decode_review(train_padded[1]))"
   ]
  },
  {
   "cell_type": "markdown",
   "id": "bb8eba47-1c4f-46e4-94cd-8bf3dbfbf6b5",
   "metadata": {},
   "source": [
    "#### the sequential model compilation was not functional, potentially because the labels are np array of string and not integers. #### I wanted to check the same."
   ]
  },
  {
   "cell_type": "code",
   "execution_count": 23,
   "id": "a0b1c9c8-5d43-432f-9749-9734779de104",
   "metadata": {},
   "outputs": [
    {
     "name": "stdout",
     "output_type": "stream",
     "text": [
      "<class 'numpy.ndarray'>\n"
     ]
    }
   ],
   "source": [
    "print(type(train_labels))"
   ]
  },
  {
   "cell_type": "code",
   "execution_count": 24,
   "id": "fb20be0b-ff5b-4134-9359-c3f7037dd730",
   "metadata": {},
   "outputs": [
    {
     "name": "stdout",
     "output_type": "stream",
     "text": [
      "int32\n"
     ]
    }
   ],
   "source": [
    "print(train_labels.dtype)"
   ]
  },
  {
   "cell_type": "code",
   "execution_count": 25,
   "id": "2bcb358f-6527-443d-8a2d-8564b2f31e31",
   "metadata": {},
   "outputs": [
    {
     "name": "stdout",
     "output_type": "stream",
     "text": [
      "Labels are integers.\n"
     ]
    }
   ],
   "source": [
    "import numpy as np\n",
    "\n",
    "if np.issubdtype(train_labels.dtype, np.integer):\n",
    "    print(\"Labels are integers.\")\n",
    "else:\n",
    "    print(\"Labels are not integers.\")"
   ]
  },
  {
   "cell_type": "markdown",
   "id": "b59a9a23-09f9-46ab-80b8-b9627c2cd176",
   "metadata": {},
   "source": [
    "##### The train_labels and test_labels are not integers"
   ]
  },
  {
   "cell_type": "markdown",
   "id": "29e37ed3-106c-42df-b865-835872e926bd",
   "metadata": {},
   "source": [
    "Define the Neural Network with Embedding layer\n",
    "1. Use the Sequential API.\n",
    "2. Add an embedding input layer of input size equal to vocabulary size.\n",
    "3. Add a flatten layer, and two dense layers."
   ]
  },
  {
   "cell_type": "code",
   "execution_count": null,
   "id": "427cc3f0-0be4-46fb-a58b-40fa73c05b5e",
   "metadata": {},
   "outputs": [],
   "source": []
  },
  {
   "cell_type": "code",
   "execution_count": 27,
   "id": "0925d936-3646-480e-9b34-7d46ecff5529",
   "metadata": {},
   "outputs": [
    {
     "data": {
      "text/html": [
       "<pre style=\"white-space:pre;overflow-x:auto;line-height:normal;font-family:Menlo,'DejaVu Sans Mono',consolas,'Courier New',monospace\"><span style=\"font-weight: bold\">Model: \"sequential_1\"</span>\n",
       "</pre>\n"
      ],
      "text/plain": [
       "\u001b[1mModel: \"sequential_1\"\u001b[0m\n"
      ]
     },
     "metadata": {},
     "output_type": "display_data"
    },
    {
     "data": {
      "text/html": [
       "<pre style=\"white-space:pre;overflow-x:auto;line-height:normal;font-family:Menlo,'DejaVu Sans Mono',consolas,'Courier New',monospace\">┏━━━━━━━━━━━━━━━━━━━━━━━━━━━━━━━━━━━━━━┳━━━━━━━━━━━━━━━━━━━━━━━━━━━━━┳━━━━━━━━━━━━━━━━━┓\n",
       "┃<span style=\"font-weight: bold\"> Layer (type)                         </span>┃<span style=\"font-weight: bold\"> Output Shape                </span>┃<span style=\"font-weight: bold\">         Param # </span>┃\n",
       "┡━━━━━━━━━━━━━━━━━━━━━━━━━━━━━━━━━━━━━━╇━━━━━━━━━━━━━━━━━━━━━━━━━━━━━╇━━━━━━━━━━━━━━━━━┩\n",
       "│ embedding_1 (<span style=\"color: #0087ff; text-decoration-color: #0087ff\">Embedding</span>)              │ ?                           │     <span style=\"color: #00af00; text-decoration-color: #00af00\">0</span> (unbuilt) │\n",
       "├──────────────────────────────────────┼─────────────────────────────┼─────────────────┤\n",
       "│ flatten_1 (<span style=\"color: #0087ff; text-decoration-color: #0087ff\">Flatten</span>)                  │ ?                           │     <span style=\"color: #00af00; text-decoration-color: #00af00\">0</span> (unbuilt) │\n",
       "├──────────────────────────────────────┼─────────────────────────────┼─────────────────┤\n",
       "│ dense_2 (<span style=\"color: #0087ff; text-decoration-color: #0087ff\">Dense</span>)                      │ ?                           │     <span style=\"color: #00af00; text-decoration-color: #00af00\">0</span> (unbuilt) │\n",
       "├──────────────────────────────────────┼─────────────────────────────┼─────────────────┤\n",
       "│ dense_3 (<span style=\"color: #0087ff; text-decoration-color: #0087ff\">Dense</span>)                      │ ?                           │     <span style=\"color: #00af00; text-decoration-color: #00af00\">0</span> (unbuilt) │\n",
       "└──────────────────────────────────────┴─────────────────────────────┴─────────────────┘\n",
       "</pre>\n"
      ],
      "text/plain": [
       "┏━━━━━━━━━━━━━━━━━━━━━━━━━━━━━━━━━━━━━━┳━━━━━━━━━━━━━━━━━━━━━━━━━━━━━┳━━━━━━━━━━━━━━━━━┓\n",
       "┃\u001b[1m \u001b[0m\u001b[1mLayer (type)                        \u001b[0m\u001b[1m \u001b[0m┃\u001b[1m \u001b[0m\u001b[1mOutput Shape               \u001b[0m\u001b[1m \u001b[0m┃\u001b[1m \u001b[0m\u001b[1m        Param #\u001b[0m\u001b[1m \u001b[0m┃\n",
       "┡━━━━━━━━━━━━━━━━━━━━━━━━━━━━━━━━━━━━━━╇━━━━━━━━━━━━━━━━━━━━━━━━━━━━━╇━━━━━━━━━━━━━━━━━┩\n",
       "│ embedding_1 (\u001b[38;5;33mEmbedding\u001b[0m)              │ ?                           │     \u001b[38;5;34m0\u001b[0m (unbuilt) │\n",
       "├──────────────────────────────────────┼─────────────────────────────┼─────────────────┤\n",
       "│ flatten_1 (\u001b[38;5;33mFlatten\u001b[0m)                  │ ?                           │     \u001b[38;5;34m0\u001b[0m (unbuilt) │\n",
       "├──────────────────────────────────────┼─────────────────────────────┼─────────────────┤\n",
       "│ dense_2 (\u001b[38;5;33mDense\u001b[0m)                      │ ?                           │     \u001b[38;5;34m0\u001b[0m (unbuilt) │\n",
       "├──────────────────────────────────────┼─────────────────────────────┼─────────────────┤\n",
       "│ dense_3 (\u001b[38;5;33mDense\u001b[0m)                      │ ?                           │     \u001b[38;5;34m0\u001b[0m (unbuilt) │\n",
       "└──────────────────────────────────────┴─────────────────────────────┴─────────────────┘\n"
      ]
     },
     "metadata": {},
     "output_type": "display_data"
    },
    {
     "data": {
      "text/html": [
       "<pre style=\"white-space:pre;overflow-x:auto;line-height:normal;font-family:Menlo,'DejaVu Sans Mono',consolas,'Courier New',monospace\"><span style=\"font-weight: bold\"> Total params: </span><span style=\"color: #00af00; text-decoration-color: #00af00\">0</span> (0.00 B)\n",
       "</pre>\n"
      ],
      "text/plain": [
       "\u001b[1m Total params: \u001b[0m\u001b[38;5;34m0\u001b[0m (0.00 B)\n"
      ]
     },
     "metadata": {},
     "output_type": "display_data"
    },
    {
     "data": {
      "text/html": [
       "<pre style=\"white-space:pre;overflow-x:auto;line-height:normal;font-family:Menlo,'DejaVu Sans Mono',consolas,'Courier New',monospace\"><span style=\"font-weight: bold\"> Trainable params: </span><span style=\"color: #00af00; text-decoration-color: #00af00\">0</span> (0.00 B)\n",
       "</pre>\n"
      ],
      "text/plain": [
       "\u001b[1m Trainable params: \u001b[0m\u001b[38;5;34m0\u001b[0m (0.00 B)\n"
      ]
     },
     "metadata": {},
     "output_type": "display_data"
    },
    {
     "data": {
      "text/html": [
       "<pre style=\"white-space:pre;overflow-x:auto;line-height:normal;font-family:Menlo,'DejaVu Sans Mono',consolas,'Courier New',monospace\"><span style=\"font-weight: bold\"> Non-trainable params: </span><span style=\"color: #00af00; text-decoration-color: #00af00\">0</span> (0.00 B)\n",
       "</pre>\n"
      ],
      "text/plain": [
       "\u001b[1m Non-trainable params: \u001b[0m\u001b[38;5;34m0\u001b[0m (0.00 B)\n"
      ]
     },
     "metadata": {},
     "output_type": "display_data"
    }
   ],
   "source": [
    "model = tf.keras.Sequential([\n",
    "    tf.keras.layers.Embedding(vocab_size, embedding_dim, input_length=max_length),\n",
    "    tf.keras.layers.Flatten(),\n",
    "    tf.keras.layers.Dense(50, activation='relu'),\n",
    "    tf.keras.layers.Dense(1, activation='softmax')\n",
    "])\n",
    "\n",
    "##compile the model with loss function, optimizer and metrics\n",
    "model.compile(loss='binary_crossentropy',optimizer='adam',metrics=['accuracy'])\n",
    "model.summary()\n"
   ]
  },
  {
   "cell_type": "code",
   "execution_count": 28,
   "id": "e40300aa-2b57-4654-afb1-97e815d110ff",
   "metadata": {},
   "outputs": [
    {
     "data": {
      "text/html": [
       "<pre style=\"white-space:pre;overflow-x:auto;line-height:normal;font-family:Menlo,'DejaVu Sans Mono',consolas,'Courier New',monospace\"><span style=\"font-weight: bold\">Model: \"sequential_2\"</span>\n",
       "</pre>\n"
      ],
      "text/plain": [
       "\u001b[1mModel: \"sequential_2\"\u001b[0m\n"
      ]
     },
     "metadata": {},
     "output_type": "display_data"
    },
    {
     "data": {
      "text/html": [
       "<pre style=\"white-space:pre;overflow-x:auto;line-height:normal;font-family:Menlo,'DejaVu Sans Mono',consolas,'Courier New',monospace\">┏━━━━━━━━━━━━━━━━━━━━━━━━━━━━━━━━━━━━━━┳━━━━━━━━━━━━━━━━━━━━━━━━━━━━━┳━━━━━━━━━━━━━━━━━┓\n",
       "┃<span style=\"font-weight: bold\"> Layer (type)                         </span>┃<span style=\"font-weight: bold\"> Output Shape                </span>┃<span style=\"font-weight: bold\">         Param # </span>┃\n",
       "┡━━━━━━━━━━━━━━━━━━━━━━━━━━━━━━━━━━━━━━╇━━━━━━━━━━━━━━━━━━━━━━━━━━━━━╇━━━━━━━━━━━━━━━━━┩\n",
       "│ embedding_2 (<span style=\"color: #0087ff; text-decoration-color: #0087ff\">Embedding</span>)              │ ?                           │     <span style=\"color: #00af00; text-decoration-color: #00af00\">0</span> (unbuilt) │\n",
       "├──────────────────────────────────────┼─────────────────────────────┼─────────────────┤\n",
       "│ global_average_pooling1d             │ ?                           │     <span style=\"color: #00af00; text-decoration-color: #00af00\">0</span> (unbuilt) │\n",
       "│ (<span style=\"color: #0087ff; text-decoration-color: #0087ff\">GlobalAveragePooling1D</span>)             │                             │                 │\n",
       "├──────────────────────────────────────┼─────────────────────────────┼─────────────────┤\n",
       "│ dense_4 (<span style=\"color: #0087ff; text-decoration-color: #0087ff\">Dense</span>)                      │ ?                           │     <span style=\"color: #00af00; text-decoration-color: #00af00\">0</span> (unbuilt) │\n",
       "├──────────────────────────────────────┼─────────────────────────────┼─────────────────┤\n",
       "│ dense_5 (<span style=\"color: #0087ff; text-decoration-color: #0087ff\">Dense</span>)                      │ ?                           │     <span style=\"color: #00af00; text-decoration-color: #00af00\">0</span> (unbuilt) │\n",
       "└──────────────────────────────────────┴─────────────────────────────┴─────────────────┘\n",
       "</pre>\n"
      ],
      "text/plain": [
       "┏━━━━━━━━━━━━━━━━━━━━━━━━━━━━━━━━━━━━━━┳━━━━━━━━━━━━━━━━━━━━━━━━━━━━━┳━━━━━━━━━━━━━━━━━┓\n",
       "┃\u001b[1m \u001b[0m\u001b[1mLayer (type)                        \u001b[0m\u001b[1m \u001b[0m┃\u001b[1m \u001b[0m\u001b[1mOutput Shape               \u001b[0m\u001b[1m \u001b[0m┃\u001b[1m \u001b[0m\u001b[1m        Param #\u001b[0m\u001b[1m \u001b[0m┃\n",
       "┡━━━━━━━━━━━━━━━━━━━━━━━━━━━━━━━━━━━━━━╇━━━━━━━━━━━━━━━━━━━━━━━━━━━━━╇━━━━━━━━━━━━━━━━━┩\n",
       "│ embedding_2 (\u001b[38;5;33mEmbedding\u001b[0m)              │ ?                           │     \u001b[38;5;34m0\u001b[0m (unbuilt) │\n",
       "├──────────────────────────────────────┼─────────────────────────────┼─────────────────┤\n",
       "│ global_average_pooling1d             │ ?                           │     \u001b[38;5;34m0\u001b[0m (unbuilt) │\n",
       "│ (\u001b[38;5;33mGlobalAveragePooling1D\u001b[0m)             │                             │                 │\n",
       "├──────────────────────────────────────┼─────────────────────────────┼─────────────────┤\n",
       "│ dense_4 (\u001b[38;5;33mDense\u001b[0m)                      │ ?                           │     \u001b[38;5;34m0\u001b[0m (unbuilt) │\n",
       "├──────────────────────────────────────┼─────────────────────────────┼─────────────────┤\n",
       "│ dense_5 (\u001b[38;5;33mDense\u001b[0m)                      │ ?                           │     \u001b[38;5;34m0\u001b[0m (unbuilt) │\n",
       "└──────────────────────────────────────┴─────────────────────────────┴─────────────────┘\n"
      ]
     },
     "metadata": {},
     "output_type": "display_data"
    },
    {
     "data": {
      "text/html": [
       "<pre style=\"white-space:pre;overflow-x:auto;line-height:normal;font-family:Menlo,'DejaVu Sans Mono',consolas,'Courier New',monospace\"><span style=\"font-weight: bold\"> Total params: </span><span style=\"color: #00af00; text-decoration-color: #00af00\">0</span> (0.00 B)\n",
       "</pre>\n"
      ],
      "text/plain": [
       "\u001b[1m Total params: \u001b[0m\u001b[38;5;34m0\u001b[0m (0.00 B)\n"
      ]
     },
     "metadata": {},
     "output_type": "display_data"
    },
    {
     "data": {
      "text/html": [
       "<pre style=\"white-space:pre;overflow-x:auto;line-height:normal;font-family:Menlo,'DejaVu Sans Mono',consolas,'Courier New',monospace\"><span style=\"font-weight: bold\"> Trainable params: </span><span style=\"color: #00af00; text-decoration-color: #00af00\">0</span> (0.00 B)\n",
       "</pre>\n"
      ],
      "text/plain": [
       "\u001b[1m Trainable params: \u001b[0m\u001b[38;5;34m0\u001b[0m (0.00 B)\n"
      ]
     },
     "metadata": {},
     "output_type": "display_data"
    },
    {
     "data": {
      "text/html": [
       "<pre style=\"white-space:pre;overflow-x:auto;line-height:normal;font-family:Menlo,'DejaVu Sans Mono',consolas,'Courier New',monospace\"><span style=\"font-weight: bold\"> Non-trainable params: </span><span style=\"color: #00af00; text-decoration-color: #00af00\">0</span> (0.00 B)\n",
       "</pre>\n"
      ],
      "text/plain": [
       "\u001b[1m Non-trainable params: \u001b[0m\u001b[38;5;34m0\u001b[0m (0.00 B)\n"
      ]
     },
     "metadata": {},
     "output_type": "display_data"
    }
   ],
   "source": [
    "model = tf.keras.Sequential([\n",
    "    tf.keras.layers.Embedding(vocab_size, embedding_dim, input_length=max_length),\n",
    "    tf.keras.layers.GlobalAveragePooling1D(),  # Use GlobalAveragePooling1D instead of Flatten\n",
    "    tf.keras.layers.Dense(50, activation='relu'),\n",
    "    tf.keras.layers.Dense(3, activation='softmax')  # Adjust the number of units in the output layer to match the number of classes\n",
    "])\n",
    "\n",
    "model.compile(loss='sparse_categorical_crossentropy', optimizer='adam', metrics=['accuracy'])\n",
    "model.summary()\n",
    "\n"
   ]
  },
  {
   "cell_type": "markdown",
   "id": "518aa363-f8e1-4d23-956a-23398dbe09d4",
   "metadata": {},
   "source": [
    "# Model training"
   ]
  },
  {
   "cell_type": "code",
   "execution_count": 29,
   "id": "dd20c347-2be4-42c2-8bf1-bcfc3056ee8a",
   "metadata": {
    "scrolled": true
   },
   "outputs": [
    {
     "name": "stdout",
     "output_type": "stream",
     "text": [
      "Epoch 1/10\n",
      "\u001b[1m147/147\u001b[0m \u001b[32m━━━━━━━━━━━━━━━━━━━━\u001b[0m\u001b[37m\u001b[0m \u001b[1m5s\u001b[0m 14ms/step - accuracy: 0.5224 - loss: 1.0049 - val_accuracy: 0.5321 - val_loss: 0.9808\n",
      "Epoch 2/10\n",
      "\u001b[1m147/147\u001b[0m \u001b[32m━━━━━━━━━━━━━━━━━━━━\u001b[0m\u001b[37m\u001b[0m \u001b[1m2s\u001b[0m 11ms/step - accuracy: 0.5392 - loss: 0.9742 - val_accuracy: 0.5321 - val_loss: 0.9661\n",
      "Epoch 3/10\n",
      "\u001b[1m147/147\u001b[0m \u001b[32m━━━━━━━━━━━━━━━━━━━━\u001b[0m\u001b[37m\u001b[0m \u001b[1m2s\u001b[0m 11ms/step - accuracy: 0.5455 - loss: 0.9509 - val_accuracy: 0.5475 - val_loss: 0.9104\n",
      "Epoch 4/10\n",
      "\u001b[1m147/147\u001b[0m \u001b[32m━━━━━━━━━━━━━━━━━━━━\u001b[0m\u001b[37m\u001b[0m \u001b[1m2s\u001b[0m 11ms/step - accuracy: 0.5949 - loss: 0.8851 - val_accuracy: 0.6467 - val_loss: 0.8615\n",
      "Epoch 5/10\n",
      "\u001b[1m147/147\u001b[0m \u001b[32m━━━━━━━━━━━━━━━━━━━━\u001b[0m\u001b[37m\u001b[0m \u001b[1m2s\u001b[0m 11ms/step - accuracy: 0.6309 - loss: 0.8440 - val_accuracy: 0.5902 - val_loss: 0.8766\n",
      "Epoch 6/10\n",
      "\u001b[1m147/147\u001b[0m \u001b[32m━━━━━━━━━━━━━━━━━━━━\u001b[0m\u001b[37m\u001b[0m \u001b[1m2s\u001b[0m 10ms/step - accuracy: 0.6751 - loss: 0.7969 - val_accuracy: 0.5954 - val_loss: 0.8850\n",
      "Epoch 7/10\n",
      "\u001b[1m147/147\u001b[0m \u001b[32m━━━━━━━━━━━━━━━━━━━━\u001b[0m\u001b[37m\u001b[0m \u001b[1m2s\u001b[0m 10ms/step - accuracy: 0.7027 - loss: 0.7318 - val_accuracy: 0.6784 - val_loss: 0.7741\n",
      "Epoch 8/10\n",
      "\u001b[1m147/147\u001b[0m \u001b[32m━━━━━━━━━━━━━━━━━━━━\u001b[0m\u001b[37m\u001b[0m \u001b[1m2s\u001b[0m 10ms/step - accuracy: 0.7021 - loss: 0.7008 - val_accuracy: 0.6715 - val_loss: 0.7751\n",
      "Epoch 9/10\n",
      "\u001b[1m147/147\u001b[0m \u001b[32m━━━━━━━━━━━━━━━━━━━━\u001b[0m\u001b[37m\u001b[0m \u001b[1m2s\u001b[0m 11ms/step - accuracy: 0.7350 - loss: 0.6267 - val_accuracy: 0.6407 - val_loss: 0.8105\n",
      "Epoch 10/10\n",
      "\u001b[1m147/147\u001b[0m \u001b[32m━━━━━━━━━━━━━━━━━━━━\u001b[0m\u001b[37m\u001b[0m \u001b[1m2s\u001b[0m 11ms/step - accuracy: 0.7480 - loss: 0.6013 - val_accuracy: 0.6766 - val_loss: 0.7879\n"
     ]
    }
   ],
   "source": [
    "num_epochs = 10\n",
    "\n",
    "##train the model with training and validation set\n",
    "history = model.fit(\n",
    "    train_padded, \n",
    "    train_labels, \n",
    "    epochs=num_epochs, \n",
    "    validation_data=(test_padded, test_labels)\n",
    "    )"
   ]
  },
  {
   "cell_type": "markdown",
   "id": "b150fd10-6929-4fd7-b05e-7f3666969fb4",
   "metadata": {},
   "source": [
    "## Deriving weights from the embedding layer"
   ]
  },
  {
   "cell_type": "code",
   "execution_count": 30,
   "id": "ef40fa41-5521-4eca-9fcb-e11323995319",
   "metadata": {},
   "outputs": [
    {
     "name": "stdout",
     "output_type": "stream",
     "text": [
      "(11543, 50)\n",
      "[[ 0.15365753  0.09400302 -0.2575944  ...  0.11015408  0.00582751\n",
      "  -0.562321  ]\n",
      " [ 0.00818644  0.03311539 -0.00366473 ... -0.0167124  -0.01323563\n",
      "  -0.00421375]\n",
      " [-0.1173635   0.25496337 -0.44946435 ... -0.1260381  -0.07682304\n",
      "  -0.4080717 ]\n",
      " ...\n",
      " [ 0.04754164  0.01186676 -0.00328747 ... -0.02645949 -0.04449647\n",
      "   0.00720779]\n",
      " [-0.03416187  0.03341535  0.0237584  ...  0.043086    0.04839975\n",
      "   0.00758269]\n",
      " [ 0.04341562 -0.0460361  -0.04299494 ...  0.02977074  0.0386845\n",
      "   0.04681382]]\n"
     ]
    }
   ],
   "source": [
    "##isolating the first embedding layer\n",
    "l1 = model.layers[0]\n",
    "\n",
    "##extracting learned weights\n",
    "weights = l1.get_weights()[0]\n",
    "print(weights.shape) # shape: (vocab_size, embedding_dim)\n",
    "print(weights)"
   ]
  },
  {
   "cell_type": "markdown",
   "id": "8e72248d-c33a-4a23-b4e2-b1378528097c",
   "metadata": {},
   "source": [
    "## Downloading the vectors and metadata for https://projector.tensorflow.org/"
   ]
  },
  {
   "cell_type": "code",
   "execution_count": null,
   "id": "c1c78f1e-8fb7-4193-9f9c-24849acca616",
   "metadata": {},
   "outputs": [],
   "source": [
    "##import I/O module in python\n",
    "import io\n"
   ]
  },
  {
   "cell_type": "code",
   "execution_count": null,
   "id": "c7e5cc88-8c8c-435a-b229-73f6ec14aff9",
   "metadata": {},
   "outputs": [],
   "source": [
    "\n",
    "##open the text stream for vectors\n",
    "#vectors = io.open('vectors.tsv', 'w', encoding='utf-8')\n",
    "\n",
    "##open the text stream for metadata\n",
    "#meta = io.open('meta.tsv', 'w', encoding='utf-8')\n",
    "\n",
    "\n",
    "##write each word and its corresponding embedding\n",
    "#for index in range(1, vocab_size + 1):\n",
    "#  word = reverse_word_index[index]  # flipping the key-value in word_index\n",
    "#  embeddings = weights[index]\n",
    "#  meta.write(word + \"\\n\")\n",
    "#  vectors.write('\\t'.join([str(x) for x in embeddings]) + \"\\n\")\n",
    "\n",
    "##close the stream\n",
    "#vectors.close()\n",
    "#meta.close()"
   ]
  },
  {
   "cell_type": "code",
   "execution_count": null,
   "id": "8c54b6e6-59eb-4417-aa8a-ed6ead77687d",
   "metadata": {},
   "outputs": [],
   "source": [
    "# Print the number of unique words in your vocabulary\n",
    "print(\"Number of unique words in vocabulary:\", len(reverse_word_index))\n",
    "\n",
    "# Check if the index causing the KeyError exists in the reverse_word_index dictionary\n",
    "key_to_check = 10194\n",
    "if key_to_check in reverse_word_index:\n",
    "    print(\"Word at index\", key_to_check, \":\", reverse_word_index[key_to_check])\n",
    "else:\n",
    "    print(\"Word at index\", key_to_check, \"not found in vocabulary.\")\n"
   ]
  },
  {
   "cell_type": "code",
   "execution_count": null,
   "id": "37143c55-862d-445c-b44e-4b626b082029",
   "metadata": {},
   "outputs": [],
   "source": [
    "# Open the text stream for vectors\n",
    "#vectors = io.open('vectors.tsv', 'w', encoding='utf-8')\n",
    "\n",
    "# Open the text stream for metadata\n",
    "#meta = io.open('meta.tsv', 'w', encoding='utf-8')\n",
    "\n",
    "# Write each word and its corresponding embedding\n",
    "#for index in range(1, vocab_size + 1):\n",
    "#    if index in reverse_word_index:\n",
    "#        word = reverse_word_index[index]\n",
    "#        embeddings = weights[index]\n",
    "#        meta.write(word + \"\\n\")\n",
    "#        vectors.write('\\t'.join([str(x) for x in embeddings]) + \"\\n\")\n",
    "#    else:\n",
    "#        print(\"Index\", index, \"not found in reverse_word_index.\")\n",
    "\n",
    "# Close the streams\n",
    "#vectors.close()\n",
    "#meta.close()\n"
   ]
  },
  {
   "cell_type": "markdown",
   "id": "bbd79113-5747-4bf1-b301-552288eac9ec",
   "metadata": {},
   "source": [
    "## Visualise the train & validation accuracy and loss"
   ]
  },
  {
   "cell_type": "code",
   "execution_count": null,
   "id": "256a9b18-8deb-47ff-a8e3-e187b9cac38e",
   "metadata": {},
   "outputs": [],
   "source": [
    "!pip install matplotlib"
   ]
  },
  {
   "cell_type": "code",
   "execution_count": 31,
   "id": "f503964b-90dd-481e-9a73-3e5e03dc1b63",
   "metadata": {},
   "outputs": [
    {
     "data": {
      "image/png": "[encoded data removed]",
      "text/plain": [
       "<Figure size 640x480 with 1 Axes>"
      ]
     },
     "metadata": {},
     "output_type": "display_data"
    },
    {
     "data": {
      "image/png": "[encoded data removed]",
      "text/plain": [
       "<Figure size 640x480 with 1 Axes>"
      ]
     },
     "metadata": {},
     "output_type": "display_data"
    }
   ],
   "source": [
    "import matplotlib.pyplot as plt\n",
    "\n",
    "##plot the scores from history\n",
    "def plot_graphs(history, string):\n",
    "  plt.plot(history.history[string])\n",
    "  plt.plot(history.history['val_'+string])\n",
    "  plt.legend([string, 'val_'+string])\n",
    "  plt.xlabel(\"Epochs\")\n",
    "  plt.ylabel(string)\n",
    "  plt.show()\n",
    "  \n",
    "plot_graphs(history, \"accuracy\")\n",
    "plot_graphs(history, \"loss\")"
   ]
  },
  {
   "cell_type": "markdown",
   "id": "363d3554-5e06-459f-b8ef-a3ee4a813c12",
   "metadata": {},
   "source": [
    "## Classifying a new sentence"
   ]
  },
  {
   "cell_type": "code",
   "execution_count": 70,
   "id": "fdd277a9-d321-48c3-8c22-71997ff60fc1",
   "metadata": {},
   "outputs": [
    {
     "name": "stdout",
     "output_type": "stream",
     "text": [
      "\u001b[1m1/1\u001b[0m \u001b[32m━━━━━━━━━━━━━━━━━━━━\u001b[0m\u001b[37m\u001b[0m \u001b[1m0s\u001b[0m 54ms/step\n",
      "\u001b[1m1/1\u001b[0m \u001b[32m━━━━━━━━━━━━━━━━━━━━\u001b[0m\u001b[37m\u001b[0m \u001b[1m0s\u001b[0m 64ms/step\n",
      "[[0.21628363 0.5588156  0.22490083]\n",
      " [0.08649866 0.7419336  0.17156778]\n",
      " [0.12424014 0.3988374  0.4769225 ]\n",
      " [0.0788402  0.7722822  0.14887758]]\n"
     ]
    }
   ],
   "source": [
    "sentence = [\"Tesco share price down as grocer faces SFO investigation outcome\", \"the new year will see more investors rising in the banking sector\", \"Biotech companies will see a 10% increase in 2025\", \"the healthcare sector will lose 15% of its net income in 2026\"]\n",
    "##prepare the sequences of the sentences in question\n",
    "sequences = tokenizer.texts_to_sequences(sentence)\n",
    "padded_seqs = pad_sequences(sequences, maxlen=max_length, padding=padding_type, truncating=trunc_type)\n",
    "predictions = model.predict(padded_seqs)\n",
    "print(model.predict(padded_seqs))"
   ]
  },
  {
   "cell_type": "code",
   "execution_count": 71,
   "id": "99d717ad-b45f-4a5a-8dea-5bc3fe6e9f3d",
   "metadata": {},
   "outputs": [
    {
     "name": "stdout",
     "output_type": "stream",
     "text": [
      "['neutral', 'neutral', 'positive', 'neutral']\n"
     ]
    }
   ],
   "source": [
    "class_labels = ['negative', 'neutral', 'positive']  # example class labels\n",
    "predicted_classes = np.argmax(predictions, axis=1)\n",
    "predicted_labels = [class_labels[idx] for idx in predicted_classes]\n",
    "print(predicted_labels)\n"
   ]
  },
  {
   "cell_type": "code",
   "execution_count": null,
   "id": "f3a72b41-b322-4a54-863d-362abd96d83c",
   "metadata": {},
   "outputs": [],
   "source": [
    "\n"
   ]
  },
  {
   "cell_type": "code",
   "execution_count": null,
   "id": "56aff289-1558-46aa-951b-2a9575356033",
   "metadata": {},
   "outputs": [],
   "source": []
  },
  {
   "cell_type": "code",
   "execution_count": null,
   "id": "ad964fcd-3616-4e37-9f8f-f5cc5edfbaf5",
   "metadata": {},
   "outputs": [],
   "source": []
  }
 ],
 "metadata": {
  "kernelspec": {
   "display_name": "TF_practice",
   "language": "python",
   "name": "tf_practice"
  },
  "language_info": {
   "codemirror_mode": {
    "name": "ipython",
    "version": 3
   },
   "file_extension": ".py",
   "mimetype": "text/x-python",
   "name": "python",
   "nbconvert_exporter": "python",
   "pygments_lexer": "ipython3",
   "version": "3.11.5"
  }
 },
 "nbformat": 4,
 "nbformat_minor": 5
}
